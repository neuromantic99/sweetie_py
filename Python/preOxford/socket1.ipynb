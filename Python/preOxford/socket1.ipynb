{
 "cells": [
  {
   "cell_type": "code",
   "execution_count": 31,
   "metadata": {
    "collapsed": false
   },
   "outputs": [
    {
     "name": "stdout",
     "output_type": "stream",
     "text": [
      "HTTP/1.1 500 Domain Not Found\r\n",
      "Server: Varnish\r\n",
      "Retry-After: 0\r\n",
      "content-type: text/html\r\n",
      "Cache-Control: private, no-cache\r\n",
      "connection: keep-alive\r\n",
      "Content-Length: 179\r\n",
      "Accept-Ranges: bytes\r\n",
      "Date: Fri, 03 Jun 2016 01:00:05 GMT\r\n",
      "Via: 1.1 varnish\r\n",
      "Connection: close\r\n",
      "\r\n",
      "\n",
      "<html>\n",
      "<head>\n",
      "<title>Fastly error: unknown domain </title>\n",
      "</head>\n",
      "<body>\n",
      "Fastly error: unknown domain: . Please check that this domain has been added to a service.</body></html>\n"
     ]
    }
   ],
   "source": [
    "import socket\n",
    "\n",
    "\n",
    "mysock = socket.socket(socket.AF_INET, socket.SOCK_STREAM)\n",
    "mysock.connect(('www.buzzfeed.com', 80))\n",
    "\n",
    "for i in range(0, 99):\n",
    "    mysock.send('GET https://www.buzzfeed.com/stephaniemcneal/this-mom-had-a-priceless-reaction-when-her-baby-girl-turned HTTP/1.0\\n\\n')\n",
    "    \n",
    "\n",
    "while True:\n",
    "    data = mysock.recv(512)\n",
    "    if ( len(data) < 1 ):\n",
    "           break\n",
    "    print data\n",
    "mysock.close()"
   ]
  },
  {
   "cell_type": "code",
   "execution_count": null,
   "metadata": {
    "collapsed": true
   },
   "outputs": [],
   "source": []
  },
  {
   "cell_type": "code",
   "execution_count": 13,
   "metadata": {
    "collapsed": false
   },
   "outputs": [
    {
     "name": "stdout",
     "output_type": "stream",
     "text": [
      "cuxt\n"
     ]
    }
   ],
   "source": [
    "print 'cuxt'"
   ]
  },
  {
   "cell_type": "code",
   "execution_count": null,
   "metadata": {
    "collapsed": true
   },
   "outputs": [],
   "source": []
  },
  {
   "cell_type": "code",
   "execution_count": null,
   "metadata": {
    "collapsed": true
   },
   "outputs": [],
   "source": []
  },
  {
   "cell_type": "code",
   "execution_count": null,
   "metadata": {
    "collapsed": true
   },
   "outputs": [],
   "source": []
  }
 ],
 "metadata": {
  "kernelspec": {
   "display_name": "Python 2",
   "language": "python",
   "name": "python2"
  },
  "language_info": {
   "codemirror_mode": {
    "name": "ipython",
    "version": 2
   },
   "file_extension": ".py",
   "mimetype": "text/x-python",
   "name": "python",
   "nbconvert_exporter": "python",
   "pygments_lexer": "ipython2",
   "version": "2.7.9"
  }
 },
 "nbformat": 4,
 "nbformat_minor": 0
}
