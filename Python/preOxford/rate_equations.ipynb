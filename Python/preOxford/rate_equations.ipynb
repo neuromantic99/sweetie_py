{
 "cells": [
  {
   "cell_type": "code",
   "execution_count": 2,
   "metadata": {
    "collapsed": false
   },
   "outputs": [],
   "source": [
    "import numpy as np\n",
    "import matplotlib.pyplot as plt\n",
    "from scipy.integrate import odeint\n",
    " \n",
    "S0=10.0\n",
    "C0=15.0\n",
    " \n",
    "Ks=1000\n",
    "Kc=400\n",
    " \n",
    "a_c=1./500\n",
    "a_s=1./900\n",
    " \n",
    "rs=0.6\n",
    "rc=0.5\n",
    " \n",
    "s0=(S0,C0)\n",
    "p=(rs,rc,Ks,Kc,a_c,a_s)\n",
    " \n",
    "def sdot(s,t,p):\n",
    "    rs,rc,Ks,Kc,a_c,a_s=p\n",
    "    S,C=s\n",
    "    dS = rs*S*(1. - S/Ks - a_c*C)\n",
    "    dC = rc*C*(1. - C/Kc - a_s*S)\n",
    "    return (dS,dC)\n",
    " \n",
    " \n",
    "plt.close(\"all\")\n",
    " \n",
    "fig1 = plt.figure()\n",
    "ax1=plt.subplot(1,1,1)\n",
    " \n",
    "t_max=200\n",
    "t_obs=np.linspace(0,t_max,1001)\n",
    "s_obs=odeint(sdot,s0,t_obs,args=(p,))\n"
   ]
  }
 ],
 "metadata": {
  "kernelspec": {
   "display_name": "Python 2",
   "language": "python",
   "name": "python2"
  },
  "language_info": {
   "codemirror_mode": {
    "name": "ipython",
    "version": 2
   },
   "file_extension": ".py",
   "mimetype": "text/x-python",
   "name": "python",
   "nbconvert_exporter": "python",
   "pygments_lexer": "ipython2",
   "version": "2.7.9"
  }
 },
 "nbformat": 4,
 "nbformat_minor": 0
}
