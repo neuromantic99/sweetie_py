{
 "cells": [
  {
   "cell_type": "code",
   "execution_count": 30,
   "metadata": {
    "collapsed": false
   },
   "outputs": [
    {
     "name": "stdout",
     "output_type": "stream",
     "text": [
      "2651\n"
     ]
    }
   ],
   "source": [
    "import BeautifulSoup as bs\n",
    "import re\n",
    "import urllib\n",
    "\n",
    "html = urllib.urlopen('http://python-data.dr-chuck.net/comments_281701.html').read()\n",
    "soup = bs.BeautifulSoup(html)\n",
    "\n",
    "tags = soup('span')\n",
    "\n",
    "numbs = []\n",
    "\n",
    "for tag in tags:\n",
    "    numbs.append(tag.contents[0])\n",
    "\n",
    "ints = [int(i) for i in numbs]\n",
    "\n",
    "print sum(ints)\n",
    "#re.findall('0-9+', tags[0])\n",
    "\n"
   ]
  },
  {
   "cell_type": "code",
   "execution_count": null,
   "metadata": {
    "collapsed": true
   },
   "outputs": [],
   "source": []
  }
 ],
 "metadata": {
  "kernelspec": {
   "display_name": "Python 2",
   "language": "python",
   "name": "python2"
  },
  "language_info": {
   "codemirror_mode": {
    "name": "ipython",
    "version": 2
   },
   "file_extension": ".py",
   "mimetype": "text/x-python",
   "name": "python",
   "nbconvert_exporter": "python",
   "pygments_lexer": "ipython2",
   "version": "2.7.9"
  }
 },
 "nbformat": 4,
 "nbformat_minor": 0
}
