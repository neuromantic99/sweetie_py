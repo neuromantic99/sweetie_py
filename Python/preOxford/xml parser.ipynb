{
 "cells": [
  {
   "cell_type": "code",
   "execution_count": 15,
   "metadata": {
    "collapsed": false
   },
   "outputs": [
    {
     "name": "stdout",
     "output_type": "stream",
     "text": [
      "The sum is 2522\n"
     ]
    }
   ],
   "source": [
    "import urllib\n",
    "import xml.etree.ElementTree as ET\n",
    "\n",
    "xml = urllib.urlopen(' http://python-data.dr-chuck.net/comments_281698.xml').read()\n",
    "\n",
    "parsed = ET.fromstring(xml)\n",
    "\n",
    "mlist = parsed.findall('comments/comment')\n",
    "\n",
    "numbs = [i.find('count').text for i in mlist]\n",
    "\n",
    "ints = [int(i) for i in numbs]\n",
    "\n",
    "print 'The sum is', sum(ints)"
   ]
  }
 ],
 "metadata": {
  "kernelspec": {
   "display_name": "Python [py3k]",
   "language": "python",
   "name": "Python [py3k]"
  },
  "language_info": {
   "codemirror_mode": {
    "name": "ipython",
    "version": 3
   },
   "file_extension": ".py",
   "mimetype": "text/x-python",
   "name": "python",
   "nbconvert_exporter": "python",
   "pygments_lexer": "ipython3",
   "version": "3.5.1"
  }
 },
 "nbformat": 4,
 "nbformat_minor": 0
}
