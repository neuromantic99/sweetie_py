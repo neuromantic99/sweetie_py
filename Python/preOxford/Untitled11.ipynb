{
 "cells": [
  {
   "cell_type": "code",
   "execution_count": 29,
   "metadata": {
    "collapsed": false
   },
   "outputs": [
    {
     "data": {
      "text/plain": [
       "51"
      ]
     },
     "execution_count": 29,
     "metadata": {},
     "output_type": "execute_result"
    }
   ],
   "source": [
    "import sima\n",
    "import numpy\n",
    "dataset = sima.ImagingDataset.load('C:\\\\Users\\\\zcbtjro\\\\Pictures\\\\tester\\\\MFB_test\\\\MFB_correct.sima')\n",
    "\n",
    "\n",
    "x = dataset[:,::2]\n",
    "\n",
    "x.num_frames\n",
    "\n"
   ]
  }
 ],
 "metadata": {
  "kernelspec": {
   "display_name": "Python 2",
   "language": "python",
   "name": "python2"
  },
  "language_info": {
   "codemirror_mode": {
    "name": "ipython",
    "version": 2
   },
   "file_extension": ".py",
   "mimetype": "text/x-python",
   "name": "python",
   "nbconvert_exporter": "python",
   "pygments_lexer": "ipython2",
   "version": "2.7.9"
  }
 },
 "nbformat": 4,
 "nbformat_minor": 0
}
