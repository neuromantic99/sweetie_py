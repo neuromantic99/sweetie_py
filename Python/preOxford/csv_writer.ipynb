{
 "cells": [
  {
   "cell_type": "code",
   "execution_count": 1,
   "metadata": {
    "collapsed": false
   },
   "outputs": [],
   "source": [
    "import csv\n",
    "\n",
    "heading_str=\"time, temp\"\n",
    "d1=\"0, 35.6\"\n",
    "d2=\"0, 34.5\"\n",
    "d3=\"0, 35.0\"\n",
    "d4=\"0, 33.6\"\n",
    "d5=\"0, 35.3\"\n",
    "lines_to_write=[heading_str, d1, d2, d3, d4, d5]\n",
    "\n",
    "with open('temp_data.csv', 'wb') as f:\n",
    "    writer = csv.writer(f)\n",
    "    writer.writerows(lines_to_write)\n",
    "        \n",
    "    "
   ]
  },
  {
   "cell_type": "code",
   "execution_count": 120,
   "metadata": {
    "collapsed": false
   },
   "outputs": [
    {
     "name": "stdout",
     "output_type": "stream",
     "text": [
      "15\n"
     ]
    }
   ],
   "source": [
    "seq = [1,3,4,5,4,3,5,4,3,2,3,4,5,6,7,8,7,6,5,3,2]\n",
    "\n",
    "x = range(0, len(seq), 3)\n",
    "\n",
    "print x[3]\n",
    "\n",
    "#for n in range(0, len(seq), 3):\n",
    " #   print seq[n:n + 3]"
   ]
  },
  {
   "cell_type": "code",
   "execution_count": null,
   "metadata": {
    "collapsed": true
   },
   "outputs": [],
   "source": []
  }
 ],
 "metadata": {
  "kernelspec": {
   "display_name": "Python 2",
   "language": "python",
   "name": "python2"
  },
  "language_info": {
   "codemirror_mode": {
    "name": "ipython",
    "version": 2
   },
   "file_extension": ".py",
   "mimetype": "text/x-python",
   "name": "python",
   "nbconvert_exporter": "python",
   "pygments_lexer": "ipython2",
   "version": "2.7.9"
  }
 },
 "nbformat": 4,
 "nbformat_minor": 0
}
