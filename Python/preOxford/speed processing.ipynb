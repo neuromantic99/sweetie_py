{
 "cells": [
  {
   "cell_type": "code",
   "execution_count": 3,
   "metadata": {
    "collapsed": false
   },
   "outputs": [
    {
     "data": {
      "image/png": "[encoded data removed]",
      "text/plain": [
       "<matplotlib.figure.Figure at 0x3f8e390>"
      ]
     },
     "metadata": {},
     "output_type": "display_data"
    }
   ],
   "source": [
    "% matplotlib inline\n",
    "\n",
    "import numpy \n",
    "import matplotlib.pyplot as plt\n",
    "from statsmodels.nonparametric.smoothers_lowess import lowess\n",
    "\n",
    "\n",
    "\n",
    "data= numpy.fromfile('C:\\\\Users\\\\zcbtjro\\\\Downloads\\\\Stim_3_speed.dat', '>d')\n",
    "x = range(0, len(data))\n",
    "absdata = [abs(k) for k in data]\n",
    "absdata = numpy.array(absdata)\n",
    "#filtered = lowess(absdata, x, is_sorted=True, frac=0.025, it=0)\n",
    "\n",
    "\n",
    "def smooth(x,window_len=10000,window='hanning'):\n",
    "        if x.ndim != 1:\n",
    "                raise ValueError, \"smooth only accepts 1 dimension arrays.\"\n",
    "        if x.size < window_len:\n",
    "                raise ValueError, \"Input vector needs to be bigger than window size.\"\n",
    "        if window_len<3:\n",
    "                return x\n",
    "        if not window in ['flat', 'hanning', 'hamming', 'bartlett', 'blackman']:\n",
    "                raise ValueError, \"Window is on of 'flat', 'hanning', 'hamming', 'bartlett', 'blackman'\"\n",
    "        s=numpy.r_[2*x[0]-x[window_len-1::-1],x,2*x[-1]-x[-1:-window_len:-1]]\n",
    "        if window == 'flat': #moving average\n",
    "                w=numpy.ones(window_len,'d')\n",
    "        else:  \n",
    "                w=eval('numpy.'+window+'(window_len)')\n",
    "        y=numpy.convolve(w/w.sum(),s,mode='same')\n",
    "        return y[window_len:-window_len+1]\n",
    "# i stole this from  http://www.scipy.org/Cookbook/SignalSmooth:\n",
    "smoothed = smooth(absdata)\n",
    "\n",
    "plt.plot(x, smoothed)\n",
    "\n",
    "plt.show()\n",
    "\n",
    "# plt.figure()\n",
    "\n",
    "# plt.plot(x, absdata, 'r')\n",
    "\n",
    "# plt.plot(filtered[:,0], filtered[:,1], 'b')\n",
    "\n",
    "# plt.show()\n",
    "\n",
    "# print'fk'"
   ]
  },
  {
   "cell_type": "code",
   "execution_count": null,
   "metadata": {
    "collapsed": true
   },
   "outputs": [],
   "source": []
  }
 ],
 "metadata": {
  "kernelspec": {
   "display_name": "Python 2",
   "language": "python",
   "name": "python2"
  },
  "language_info": {
   "codemirror_mode": {
    "name": "ipython",
    "version": 2
   },
   "file_extension": ".py",
   "mimetype": "text/x-python",
   "name": "python",
   "nbconvert_exporter": "python",
   "pygments_lexer": "ipython2",
   "version": "2.7.9"
  }
 },
 "nbformat": 4,
 "nbformat_minor": 0
}
