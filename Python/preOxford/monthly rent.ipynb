{
 "cells": [
  {
   "cell_type": "code",
   "execution_count": 46,
   "metadata": {
    "collapsed": false
   },
   "outputs": [
    {
     "name": "stdout",
     "output_type": "stream",
     "text": [
      "The difference from our current rent per person per month is!\n",
      "plus\n",
      "142\n",
      "pounds\n"
     ]
    }
   ],
   "source": [
    "def monthly_rent_calculator(week, beds):\n",
    "    month = week*52/12/beds\n",
    "    difference = month - 607\n",
    "\n",
    "    print \"The difference from our current rent per person per month is!\"\n",
    "    \n",
    "    if difference > 0:\n",
    "        print \"plus\"\n",
    "    \n",
    "            \n",
    "    print difference\n",
    "    print \"pounds\"\n",
    "\n",
    "\n",
    "#input here in format (price per week, number of beds)\n",
    "monthly_rent_calculator(1038, 6)\n",
    "    "
   ]
  },
  {
   "cell_type": "code",
   "execution_count": null,
   "metadata": {
    "collapsed": false
   },
   "outputs": [],
   "source": []
  },
  {
   "cell_type": "code",
   "execution_count": null,
   "metadata": {
    "collapsed": true
   },
   "outputs": [],
   "source": []
  }
 ],
 "metadata": {
  "kernelspec": {
   "display_name": "Python 2",
   "language": "python",
   "name": "python2"
  },
  "language_info": {
   "codemirror_mode": {
    "name": "ipython",
    "version": 2
   },
   "file_extension": ".py",
   "mimetype": "text/x-python",
   "name": "python",
   "nbconvert_exporter": "python",
   "pygments_lexer": "ipython2",
   "version": "2.7.9"
  }
 },
 "nbformat": 4,
 "nbformat_minor": 0
}
