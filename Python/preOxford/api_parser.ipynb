{
 "cells": [
  {
   "cell_type": "code",
   "execution_count": 4,
   "metadata": {
    "collapsed": false
   },
   "outputs": [
    {
     "name": "stdout",
     "output_type": "stream",
     "text": [
      "ChIJm8QInBWiiYURsQJvVTi371Y\n"
     ]
    }
   ],
   "source": [
    "import urllib\n",
    "import json\n",
    "\n",
    "serviceurl = 'http://python-data.dr-chuck.net/geojson?'\n",
    "\n",
    "address = 'Universidad de San Carlos de Guatemala'\n",
    "\n",
    "\n",
    "url = serviceurl + urllib.urlencode({'sensor':'false', 'address': address})\n",
    "uh = urllib.urlopen(url)\n",
    "data = uh.read()\n",
    "\n",
    "\n",
    "try: js = json.loads(str(data))\n",
    "except: js = None\n",
    "if 'status' not in js or js['status'] != 'OK':\n",
    "    print '==== Failure To Retrieve ===='\n",
    "    print data\n",
    "   \n",
    "loc = js[\"results\"][0][\"place_id\"]\n",
    "\n",
    "print loc\n",
    "\n"
   ]
  },
  {
   "cell_type": "code",
   "execution_count": null,
   "metadata": {
    "collapsed": true
   },
   "outputs": [],
   "source": []
  }
 ],
 "metadata": {
  "kernelspec": {
   "display_name": "Python 2",
   "language": "python",
   "name": "python2"
  },
  "language_info": {
   "codemirror_mode": {
    "name": "ipython",
    "version": 2
   },
   "file_extension": ".py",
   "mimetype": "text/x-python",
   "name": "python",
   "nbconvert_exporter": "python",
   "pygments_lexer": "ipython2",
   "version": "2.7.9"
  }
 },
 "nbformat": 4,
 "nbformat_minor": 0
}
