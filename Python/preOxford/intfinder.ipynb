{
 "cells": [
  {
   "cell_type": "code",
   "execution_count": 26,
   "metadata": {
    "collapsed": false
   },
   "outputs": [
    {
     "name": "stdout",
     "output_type": "stream",
     "text": [
      "293723\n"
     ]
    }
   ],
   "source": [
    "import re\n",
    "import itertools\n",
    "\n",
    "filer = open('regexptest.txt')\n",
    "\n",
    "intlist = []\n",
    "\n",
    "for line in filer:\n",
    "    y = re.findall('[0-9]+', line)\n",
    "    intlist.append(y)\n",
    "   \n",
    "    \n",
    "numbs = list(itertools.chain.from_iterable(intlist))\n",
    "\n",
    "inter = [int(x) for x in numbs]\n",
    "\n",
    "summed = sum(inter)\n",
    "\n",
    "print summed\n",
    "\n",
    "\n",
    "\n"
   ]
  },
  {
   "cell_type": "code",
   "execution_count": null,
   "metadata": {
    "collapsed": true
   },
   "outputs": [],
   "source": []
  }
 ],
 "metadata": {
  "kernelspec": {
   "display_name": "Python 2",
   "language": "python",
   "name": "python2"
  },
  "language_info": {
   "codemirror_mode": {
    "name": "ipython",
    "version": 2
   },
   "file_extension": ".py",
   "mimetype": "text/x-python",
   "name": "python",
   "nbconvert_exporter": "python",
   "pygments_lexer": "ipython2",
   "version": "2.7.9"
  }
 },
 "nbformat": 4,
 "nbformat_minor": 0
}
