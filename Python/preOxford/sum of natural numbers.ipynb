{
 "cells": [
  {
   "cell_type": "code",
   "execution_count": 1,
   "metadata": {
    "collapsed": false
   },
   "outputs": [
    {
     "data": {
      "text/plain": [
       "233168"
      ]
     },
     "execution_count": 1,
     "metadata": {},
     "output_type": "execute_result"
    }
   ],
   "source": [
    "import numpy as np\n",
    "\n",
    "def natural_number_adder():\n",
    "    numbers = range(1,1000)\n",
    "    threes = []\n",
    "    fives = []\n",
    "    \n",
    "    for values in numbers:\n",
    "        if values % 3 == 0:\n",
    "            threes.append(values)\n",
    "    for values in numbers:\n",
    "        if values % 5 == 0 and values not in threes:\n",
    "            fives.append(values)\n",
    "       \n",
    "    total = sum(threes) + sum(fives)\n",
    "    \n",
    "    return total\n",
    "    \n",
    "natural_number_adder()\n",
    "    \n",
    "        "
   ]
  },
  {
   "cell_type": "code",
   "execution_count": null,
   "metadata": {
    "collapsed": false
   },
   "outputs": [],
   "source": [
    "def fib():\n",
    "    poo = range(1,10)\n",
    "\n",
    "\n",
    "    for n in poo:\n",
    "        if n == 1:\n",
    "            poo.append(1)\n",
    "        elif n == 0:   \n",
    "            poo.append(0)            \n",
    "        else:                      \n",
    "            poo.append((n-1) + (n-2))\n",
    "            \n",
    "    print poo\n",
    "    return poo\n",
    "\n",
    "\n",
    "fib()\n"
   ]
  },
  {
   "cell_type": "code",
   "execution_count": null,
   "metadata": {
    "collapsed": true
   },
   "outputs": [],
   "source": [
    "print 'yo'"
   ]
  },
  {
   "cell_type": "code",
   "execution_count": null,
   "metadata": {
    "collapsed": true
   },
   "outputs": [],
   "source": []
  }
 ],
 "metadata": {
  "kernelspec": {
   "display_name": "Python 2",
   "language": "python",
   "name": "python2"
  },
  "language_info": {
   "codemirror_mode": {
    "name": "ipython",
    "version": 2
   },
   "file_extension": ".py",
   "mimetype": "text/x-python",
   "name": "python",
   "nbconvert_exporter": "python",
   "pygments_lexer": "ipython2",
   "version": "2.7.9"
  }
 },
 "nbformat": 4,
 "nbformat_minor": 0
}
