{
 "cells": [
  {
   "cell_type": "code",
   "execution_count": 8,
   "metadata": {
    "collapsed": false
   },
   "outputs": [
    {
     "ename": "TypeError",
     "evalue": "'module' object is not callable",
     "output_type": "error",
     "traceback": [
      "\u001b[1;31m---------------------------------------------------------------------------\u001b[0m",
      "\u001b[1;31mTypeError\u001b[0m                                 Traceback (most recent call last)",
      "\u001b[1;32m<ipython-input-8-070dc5af6d5d>\u001b[0m in \u001b[0;36m<module>\u001b[1;34m()\u001b[0m\n\u001b[0;32m     34\u001b[0m     \u001b[1;31m#iterable.segment('stica')\u001b[0m\u001b[1;33m\u001b[0m\u001b[1;33m\u001b[0m\u001b[0m\n\u001b[0;32m     35\u001b[0m \u001b[1;33m\u001b[0m\u001b[0m\n\u001b[1;32m---> 36\u001b[1;33m \u001b[0msignal_extract\u001b[0m\u001b[1;33m(\u001b[0m\u001b[1;33m)\u001b[0m\u001b[1;33m\u001b[0m\u001b[0m\n\u001b[0m\u001b[0;32m     37\u001b[0m \u001b[1;33m\u001b[0m\u001b[0m\n\u001b[0;32m     38\u001b[0m \u001b[1;33m\u001b[0m\u001b[0m\n",
      "\u001b[1;32m<ipython-input-8-070dc5af6d5d>\u001b[0m in \u001b[0;36msignal_extract\u001b[1;34m()\u001b[0m\n\u001b[0;32m     26\u001b[0m \u001b[1;32mdef\u001b[0m \u001b[0msignal_extract\u001b[0m\u001b[1;33m(\u001b[0m\u001b[1;33m)\u001b[0m\u001b[1;33m:\u001b[0m\u001b[1;33m\u001b[0m\u001b[0m\n\u001b[0;32m     27\u001b[0m     \u001b[0mdataset\u001b[0m \u001b[1;33m=\u001b[0m \u001b[0msima\u001b[0m\u001b[1;33m.\u001b[0m\u001b[0mImagingDataset\u001b[0m\u001b[1;33m.\u001b[0m\u001b[0mload\u001b[0m\u001b[1;33m(\u001b[0m\u001b[1;34m'C:\\\\Users\\\\zcbtjro\\\\Pictures\\\\tester\\\\MFB_test.tif.sima'\u001b[0m\u001b[1;33m)\u001b[0m\u001b[1;33m\u001b[0m\u001b[0m\n\u001b[1;32m---> 28\u001b[1;33m     \u001b[0miterable\u001b[0m \u001b[1;33m=\u001b[0m \u001b[0mtf\u001b[0m\u001b[1;33m(\u001b[0m\u001b[1;34m'C:\\\\Users\\\\zcbtjro\\\\Pictures\\\\tester\\\\MFB_test.tif'\u001b[0m\u001b[1;33m)\u001b[0m\u001b[1;33m.\u001b[0m\u001b[0masarray\u001b[0m\u001b[1;33m(\u001b[0m\u001b[1;33m)\u001b[0m\u001b[1;33m\u001b[0m\u001b[0m\n\u001b[0m\u001b[0;32m     29\u001b[0m     \u001b[1;32mprint\u001b[0m \u001b[0miterable\u001b[0m\u001b[1;33m.\u001b[0m\u001b[0mshape\u001b[0m\u001b[1;33m\u001b[0m\u001b[0m\n\u001b[0;32m     30\u001b[0m \u001b[1;33m\u001b[0m\u001b[0m\n",
      "\u001b[1;31mTypeError\u001b[0m: 'module' object is not callable"
     ]
    }
   ],
   "source": [
    "import sima\n",
    "import sima.motion\n",
    "import numpy as np\n",
    "import tifffile as tf\n",
    "\n",
    "def create_dataset(file):\n",
    "    sequences = [sima.Sequence.create('TIFF', file)]\n",
    "    #iterables = [[MultiPageTIFF(file)]]\n",
    "    dataset = sima.ImagingDataset([[sequences]], None)\n",
    "    return dataset\n",
    "    \n",
    "def channel_a(dataset):\n",
    "    return dataset[::2]\n",
    "    \n",
    "def channel_b(dataset):\n",
    "    return dataset[1:2]\n",
    "\n",
    "def motion_correction():\n",
    "    dataset = create_dataset('C:\\\\Users\\\\zcbtjro\\\\Pictures\\\\tester\\\\MFB_test.tif')\n",
    "    datasetpath = 'C:\\\\Users\\\\zcbtjro\\\\Pictures\\\\'\n",
    "    correctionapproach = sima.motion.HiddenMarkov2D(max_displacement=[40, 70], verbose=False)\n",
    "    mcorrected = correctionapproach.correct(dataset, datasetpath)\n",
    "    #mcorrected.export_frames([[['MFB_corrected_2.tif']]], fmt='TIFF16')\n",
    "    return mcorrected\n",
    "\n",
    "def signal_extract():\n",
    "    dataset = sima.ImagingDataset.load('C:\\\\Users\\\\zcbtjro\\\\Pictures\\\\tester\\\\MFB_test.tif.sima')\n",
    "    iterable = tf('C:\\\\Users\\\\zcbtjro\\\\Pictures\\\\tester\\\\MFB_test.tif').asarray()\n",
    "    print iterable.shape\n",
    "\n",
    "    \n",
    "\n",
    "    \n",
    "    #iterable.segment('stica')\n",
    "    \n",
    "signal_extract()\n",
    "\n",
    "\n",
    "\n"
   ]
  }
 ],
 "metadata": {
  "kernelspec": {
   "display_name": "Python 2",
   "language": "python",
   "name": "python2"
  },
  "language_info": {
   "codemirror_mode": {
    "name": "ipython",
    "version": 2
   },
   "file_extension": ".py",
   "mimetype": "text/x-python",
   "name": "python",
   "nbconvert_exporter": "python",
   "pygments_lexer": "ipython2",
   "version": "2.7.9"
  }
 },
 "nbformat": 4,
 "nbformat_minor": 0
}
