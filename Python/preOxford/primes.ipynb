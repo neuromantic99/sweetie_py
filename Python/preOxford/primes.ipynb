{
 "cells": [
  {
   "cell_type": "code",
   "execution_count": null,
   "metadata": {
    "collapsed": false
   },
   "outputs": [],
   "source": [
    "\n",
    "\n",
    "def primer(n):\n",
    "    ab = []\n",
    "    for p in range(2, n+1):\n",
    "        for i in range(2, p):\n",
    "            if p % i == 0:\n",
    "                break\n",
    "        else:\n",
    "            ab.append(p)\n",
    "         \n",
    "    return ab\n",
    "\n",
    "import math\n",
    "\n",
    "x = 600851475143 \n",
    "\n",
    "y = int(math.sqrt(x))    \n",
    "\n",
    "a = []   \n",
    "for hi in primer(y):\n",
    "    if y % hi == 0:\n",
    "        print (hi\n",
    "        \n",
    "\n",
    "\n",
    "\n",
    "\n",
    "\n",
    "\n",
    "# for k in lis:\n",
    "#     if x % k == 0:\n",
    "#         print k\n",
    "\n",
    "\n",
    "\n"
   ]
  }
 ],
 "metadata": {
  "kernelspec": {
   "display_name": "Python 2",
   "language": "python",
   "name": "python2"
  },
  "language_info": {
   "codemirror_mode": {
    "name": "ipython",
    "version": 2
   },
   "file_extension": ".py",
   "mimetype": "text/x-python",
   "name": "python",
   "nbconvert_exporter": "python",
   "pygments_lexer": "ipython2",
   "version": "2.7.9"
  }
 },
 "nbformat": 4,
 "nbformat_minor": 0
}
