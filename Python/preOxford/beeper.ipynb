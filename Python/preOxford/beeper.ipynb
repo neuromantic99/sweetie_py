{
 "cells": [
  {
   "cell_type": "code",
   "execution_count": 1,
   "metadata": {
    "collapsed": false
   },
   "outputs": [
    {
     "ename": "ImportError",
     "evalue": "No module named winsound",
     "output_type": "error",
     "traceback": [
      "\u001b[0;31m---------------------------------------------------------------------------\u001b[0m",
      "\u001b[0;31mImportError\u001b[0m                               Traceback (most recent call last)",
      "\u001b[0;32m<ipython-input-1-fd88e8aa612d>\u001b[0m in \u001b[0;36m<module>\u001b[0;34m()\u001b[0m\n\u001b[0;32m----> 1\u001b[0;31m \u001b[0;32mimport\u001b[0m \u001b[0mwinsound\u001b[0m\u001b[0;34m\u001b[0m\u001b[0m\n\u001b[0m\u001b[1;32m      2\u001b[0m \u001b[0;32mimport\u001b[0m \u001b[0mtime\u001b[0m\u001b[0;34m\u001b[0m\u001b[0m\n\u001b[1;32m      3\u001b[0m \u001b[0;34m\u001b[0m\u001b[0m\n\u001b[1;32m      4\u001b[0m \u001b[0mwinsound\u001b[0m\u001b[0;34m.\u001b[0m\u001b[0mBeep\u001b[0m\u001b[0;34m(\u001b[0m\u001b[0;36m293\u001b[0m\u001b[0;34m,\u001b[0m \u001b[0;36m200\u001b[0m\u001b[0;34m)\u001b[0m \u001b[0;31m# D\u001b[0m\u001b[0;34m\u001b[0m\u001b[0m\n\u001b[1;32m      5\u001b[0m \u001b[0mwinsound\u001b[0m\u001b[0;34m.\u001b[0m\u001b[0mBeep\u001b[0m\u001b[0;34m(\u001b[0m\u001b[0;36m293\u001b[0m\u001b[0;34m,\u001b[0m \u001b[0;36m200\u001b[0m\u001b[0;34m)\u001b[0m \u001b[0;31m# D\u001b[0m\u001b[0;34m\u001b[0m\u001b[0m\n",
      "\u001b[0;31mImportError\u001b[0m: No module named winsound"
     ]
    }
   ],
   "source": [
    "import winsound\n",
    "import time\n",
    "\n",
    "winsound.Beep(293, 200) # D\n",
    "winsound.Beep(293, 200) # D\n",
    "winsound.Beep(293, 200) # D\n",
    "winsound.Beep(293, 600) # D\n",
    "winsound.Beep(246, 600) # B\n",
    "\n",
    "time.sleep(0.1)\n",
    "\n",
    "winsound.Beep(369, 200)# F#\n",
    "winsound.Beep(369, 200)# F#\n",
    "winsound.Beep(369, 200)# F#\n",
    "winsound.Beep(369, 600)# F#\n",
    "winsound.Beep(329, 600) # E\n",
    "\n",
    "time.sleep(0.1)\n",
    "\n",
    "winsound.Beep(329, 200) # E\n",
    "winsound.Beep(329, 200) # E\n",
    "winsound.Beep(329, 200) # E\n",
    "winsound.Beep(369, 500) # F#\n",
    "\n",
    "time.sleep(0.9)\n",
    "\n",
    "winsound.Beep(369, 200) # F#\n",
    "winsound.Beep(369, 200) # F#\n",
    "winsound.Beep(369, 200) # F#\n",
    "winsound.Beep(369, 600) # F#\n",
    "\n",
    "time.sleep(0.9)\n",
    "winsound.Beep(369, 200) # F#\n",
    "winsound.Beep(369, 200) # F#\n",
    "winsound.Beep(369, 200) # F#\n",
    "\n",
    "for i in range(4):\n",
    "    winsound.Beep(369, 200) # F#\n",
    "    time.sleep(0.1)\n",
    "\n",
    "for i in range(4):\n",
    "    winsound.Beep(369, 100) # F#\n",
    "    time.sleep(0.1)\n",
    "\n",
    "winsound.Beep(369, 600) # F#\n"
   ]
  }
 ],
 "metadata": {
  "kernelspec": {
   "display_name": "Python 2",
   "language": "python",
   "name": "python2"
  },
  "language_info": {
   "codemirror_mode": {
    "name": "ipython",
    "version": 2
   },
   "file_extension": ".py",
   "mimetype": "text/x-python",
   "name": "python",
   "nbconvert_exporter": "python",
   "pygments_lexer": "ipython2",
   "version": "2.7.9"
  }
 },
 "nbformat": 4,
 "nbformat_minor": 0
}
