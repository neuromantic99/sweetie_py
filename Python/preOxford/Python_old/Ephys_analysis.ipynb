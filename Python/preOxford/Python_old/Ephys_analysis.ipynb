{
 "cells": [
  {
   "cell_type": "code",
   "execution_count": 10,
   "metadata": {
    "collapsed": false
   },
   "outputs": [
    {
     "name": "stdout",
     "output_type": "stream",
     "text": [
      "loading events...\n",
      "[ 5.  3.  5.  3.  3.  3.  3.  3.  3.  3.  3.  3.  3.  3.  3.  3.  3.  3.\n",
      "  3.  3.  3.  3.  3.  3.  3.  3.  3.  3.  3.  3.  3.  3.  3.  3.  3.  3.\n",
      "  3.  3.  3.  3.  3.  3.  3.  3.  3.  3.  3.  3.  3.  3.  3.  3.  3.  3.\n",
      "  3.  3.  3.  3.  3.  3.  3.  3.  3.  3.  3.  3.  3.  3.  3.  3.  3.  3.\n",
      "  3.  3.  3.  3.  3.  3.  3.  3.  3.  3.  3.  3.  3.  3.  3.  3.  3.  3.\n",
      "  3.  3.  3.  3.  3.  3.  3.  3.  3.  3.  3.  3.  3.  3.  3.  3.  3.  3.\n",
      "  3.  3.  3.  3.  3.  3.  3.  3.  3.  3.  3.  3.  3.  3.  3.  3.  3.  3.\n",
      "  3.  3.  3.  3.  3.  3.  3.  3.  3.  3.  3.  3.  3.  3.  3.  3.  3.  3.\n",
      "  3.  3.  3.  3.  3.  3.  3.  3.  3.  3.  3.  3.  3.  3.  3.  3.  3.  3.\n",
      "  3.  3.  3.  3.  3.  3.  3.  3.  3.  3.  3.  3.  3.  3.  3.  3.  3.  3.\n",
      "  3.  3.  3.  3.  3.  3.  3.  3.  3.  3.  3.  3.  3.  3.  3.  3.  3.  3.\n",
      "  3.  3.  3.  3.]\n",
      "[ 0.  9.  0.  2.  2.  5.  5.  2.  2.  5.  5.  2.  2.  5.  5.  2.  2.  5.\n",
      "  5.  2.  2.  5.  5.  2.  2.  5.  5.  2.  2.  5.  5.  2.  2.  5.  5.  2.\n",
      "  2.  5.  5.  2.  2.  5.  5.  2.  2.  5.  5.  2.  2.  5.  5.  2.  2.  5.\n",
      "  5.  2.  2.  5.  5.  2.  2.  5.  5.  2.  2.  5.  5.  2.  2.  5.  5.  2.\n",
      "  2.  5.  5.  2.  2.  5.  5.  2.  2.  5.  5.  2.  2.  5.  5.  2.  2.  5.\n",
      "  5.  2.  2.  5.  5.  2.  2.  5.  5.  2.  2.  5.  5.  2.  2.  5.  5.  2.\n",
      "  2.  5.  5.  2.  2.  5.  5.  2.  2.  5.  5.  2.  2.  5.  5.  2.  2.  5.\n",
      "  5.  2.  2.  5.  5.  2.  2.  5.  5.  2.  2.  5.  5.  2.  2.  5.  5.  2.\n",
      "  2.  5.  5.  2.  2.  5.  5.  2.  2.  5.  5.  2.  2.  5.  5.  2.  2.  5.\n",
      "  5.  2.  2.  5.  5.  2.  2.  5.  5.  2.  2.  5.  5.  2.  2.  5.  5.  2.\n",
      "  2.  5.  5.  2.  2.  5.  5.  2.  2.  5.  5.  2.  2.  5.  5.  2.  2.  5.\n",
      "  5.  2.  2.  5.]\n",
      "202\n"
     ]
    }
   ],
   "source": [
    "from openEphys import openEphys as oe\n",
    "import matplotlib.pyplot as plt\n",
    "import numpy as np\n",
    "#%matplotlib inline\n",
    "\n",
    "mdict = oe.load('/Volumes/KohlLab/JamesR/PV1_opto/all_channels.events')\n",
    "\n",
    "# for key, values in mdict.items():\n",
    "#      print (key)\n",
    "\n",
    "timeSampled = mdict['timestamps']\n",
    "sampleRate = int(mdict['header']['sampleRate'])\n",
    "\n",
    "times = timeSampled / sampleRate * 1000\n",
    "\n",
    "gap = []\n",
    "\n",
    "for i in range(len(times) - 1):\n",
    "    gap.append(times[i+1] - times[i])\n",
    "\n",
    "eventType = mdict['eventType']\n",
    "channelNum = mdict['channel']\n",
    "\n",
    "\n",
    "# print(eventType)\n",
    "# print(channelNum)\n",
    "\n",
    "print(eventType)\n",
    "print(channelNum)\n",
    "\n",
    "print(len(channelNum))\n",
    "times = times - min(times)\n",
    "\n"
   ]
  },
  {
   "cell_type": "code",
   "execution_count": null,
   "metadata": {
    "collapsed": true
   },
   "outputs": [],
   "source": []
  },
  {
   "cell_type": "code",
   "execution_count": null,
   "metadata": {
    "collapsed": false
   },
   "outputs": [],
   "source": [
    "OpenEphys.load('/Users/James/Documents/open-ephys/TTL_test')"
   ]
  }
 ],
 "metadata": {
  "kernelspec": {
   "display_name": "Python 3",
   "language": "python",
   "name": "python3"
  },
  "language_info": {
   "codemirror_mode": {
    "name": "ipython",
    "version": 3
   },
   "file_extension": ".py",
   "mimetype": "text/x-python",
   "name": "python",
   "nbconvert_exporter": "python",
   "pygments_lexer": "ipython3",
   "version": "3.6.0"
  }
 },
 "nbformat": 4,
 "nbformat_minor": 2
}
