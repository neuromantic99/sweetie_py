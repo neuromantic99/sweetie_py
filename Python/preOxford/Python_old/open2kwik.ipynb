{
 "cells": [
  {
   "cell_type": "code",
   "execution_count": 15,
   "metadata": {
    "collapsed": false
   },
   "outputs": [
    {
     "name": "stdout",
     "output_type": "stream",
     "text": [
      "Loading continuous data...\n",
      "Loading continuous data...\n",
      "Loading continuous data...\n",
      "Loading continuous data...\n",
      "Loading continuous data...\n",
      "Loading continuous data...\n",
      "Loading continuous data...\n",
      "Loading continuous data...\n",
      "Loading continuous data...\n",
      "Loading continuous data...\n",
      "Loading continuous data...\n",
      "Loading continuous data...\n",
      "Loading continuous data...\n",
      "Loading continuous data...\n",
      "Loading continuous data...\n",
      "Loading continuous data...\n",
      "Loading continuous data...\n",
      "Loading continuous data...\n",
      "Loading continuous data...\n",
      "Loading continuous data...\n",
      "Loading continuous data...\n",
      "Loading continuous data...\n",
      "Loading continuous data...\n",
      "Loading continuous data...\n",
      "Loading continuous data...\n",
      "Loading continuous data...\n",
      "Loading continuous data...\n",
      "Loading continuous data...\n",
      "Loading continuous data...\n",
      "Loading continuous data...\n",
      "Loading continuous data...\n",
      "Avg. Load Time: 0.29844907022291617 sec\n",
      "Total Load Time: 9.25205111503601 sec\n",
      "Packing data to file: openephys.dat\n"
     ]
    }
   ],
   "source": [
    "from openEphys import openEphys as OE\n",
    "import numpy as np\n",
    "\n",
    "channels = range(17,48)\n",
    "\n",
    "\n",
    "\n",
    "OE.pack_2('/Users/James/Desktop/Test_data/Lights_on/openEphys',source = '108', channels = channels)\n",
    "\n",
    "\n",
    "\n",
    "\n"
   ]
  },
  {
   "cell_type": "code",
   "execution_count": null,
   "metadata": {
    "collapsed": true
   },
   "outputs": [],
   "source": [
    "\n",
    "\n",
    "\n",
    "from openEphys import openEphys as OE\n",
    "import numpy as np\n",
    "\n",
    "\n",
    "\n",
    "\n",
    "channels = np.linspace(17,48, 32)\n",
    "print(channels)\n",
    "\n",
    "\n",
    "\n",
    "\n",
    "\n",
    "\n",
    "#OE.pack_2('/Users/James/Desktop/Test_data/Lights_on/openEphys', '/Users/James/Desktop/Test_data/Lights_on/kwik',source = '108')"
   ]
  }
 ],
 "metadata": {
  "kernelspec": {
   "display_name": "Python 3",
   "language": "python",
   "name": "python3"
  },
  "language_info": {
   "codemirror_mode": {
    "name": "ipython",
    "version": 3
   },
   "file_extension": ".py",
   "mimetype": "text/x-python",
   "name": "python",
   "nbconvert_exporter": "python",
   "pygments_lexer": "ipython3",
   "version": "3.6.0"
  }
 },
 "nbformat": 4,
 "nbformat_minor": 2
}
