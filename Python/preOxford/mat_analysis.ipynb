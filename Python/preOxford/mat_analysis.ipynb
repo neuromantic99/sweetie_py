{
 "cells": [
  {
   "cell_type": "code",
   "execution_count": 44,
   "metadata": {
    "collapsed": false
   },
   "outputs": [
    {
     "name": "stdout",
     "output_type": "stream",
     "text": [
      "from_ImageJ\n"
     ]
    }
   ],
   "source": [
    "% matplotlib inline\n",
    "\n",
    "from scipy.io import loadmat\n",
    "from scipy import stats\n",
    "import sima\n",
    "import sima.ROI as ROI\n",
    "import matplotlib.pyplot as plt\n",
    "import numpy as np\n",
    "import pandas as pd\n",
    "from __future__ import division\n",
    "mat = loadmat('C://Users//zcbtjro//matfiles_VR//PN27_20151103_VR_003_ij_maps.mat')\n",
    "\n",
    "# for key in mat.iterkeys():\n",
    "#     print key\n",
    "\n",
    "def x_axis(x):\n",
    "    return range(0, len(x))\n",
    "    \n",
    "\n",
    "time = mat.values()[2]\n",
    "DFoF = mat.values()[0]\n",
    "speed = mat.values()[1]\n",
    "binned = stats.binned_statistic(range(0,len(speed[0])), speed[0], statistic='mean', bins=len(DFoF[1]), range=None)\n",
    "binnedarr = np.array(binned[0])\n",
    "\n",
    "ranks = []\n",
    "probs = []\n",
    "\n",
    "for i in range(0, len(DFoF)):\n",
    "    rho, pval = stats.spearmanr(binnedarr, DFoF[i])\n",
    "    ranks.append(rho)\n",
    "    probs.append(pval)\n",
    "\n",
    "    \n",
    "dataset = sima.ImagingDataset.load('C://Users//zcbtjro//matfiles_VR//PN27_20151103_VR_003_mc.sima')\n",
    "\n",
    "rois = dataset.ROIs\n",
    "\n",
    "print rois\n",
    "\n",
    "    \n",
    "\n",
    "\n",
    "#plt.hist(probs, 10, facecolor='green')\n",
    "\n",
    "# plt.close('all')\n",
    "# fig = plt.figure()\n",
    "# f, axarr = plt.subplots(10, sharex = True, sharey = True)\n",
    "\n",
    "# for i in range(0, 10):\n",
    "#     fig = axarr[i].plot(time[0], DFoF[i], c=np.random.rand(3,1))\n",
    "#     axarr[i].axes.get_yaxis().set_visible(False)\n",
    "\n",
    "# plt.show()\n",
    "\n",
    "\n",
    "\n"
   ]
  },
  {
   "cell_type": "code",
   "execution_count": null,
   "metadata": {
    "collapsed": true
   },
   "outputs": [],
   "source": [
    "x = range(0, 10)"
   ]
  }
 ],
 "metadata": {
  "kernelspec": {
   "display_name": "Python 2",
   "language": "python",
   "name": "python2"
  },
  "language_info": {
   "codemirror_mode": {
    "name": "ipython",
    "version": 2
   },
   "file_extension": ".py",
   "mimetype": "text/x-python",
   "name": "python",
   "nbconvert_exporter": "python",
   "pygments_lexer": "ipython2",
   "version": "2.7.9"
  }
 },
 "nbformat": 4,
 "nbformat_minor": 0
}
