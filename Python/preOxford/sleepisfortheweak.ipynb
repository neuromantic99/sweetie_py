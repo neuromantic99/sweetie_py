{
 "cells": [
  {
   "cell_type": "code",
   "execution_count": 22,
   "metadata": {
    "collapsed": false
   },
   "outputs": [
    {
     "name": "stdout",
     "output_type": "stream",
     "text": [
      "[26.0]\n"
     ]
    }
   ],
   "source": [
    "\n",
    "    age = []\n",
    "    if age_group == '0-18':\n",
    "        age.append(9.0)\n",
    "    elif age_group == '18-35':\n",
    "        age.append(26.0)\n",
    "    elif age_group == '35-50':\n",
    "        age.append(42.0)\n",
    "    elif age_group == '50-75':\n",
    "        age.append(62.0)\n",
    "    elif age_group == '75+':\n",
    "        age.append(80.0)\n",
    "    else:\n",
    "        print 'Error'\n",
    "    return age\n"
   ]
  }
 ],
 "metadata": {
  "kernelspec": {
   "display_name": "Python 2",
   "language": "python",
   "name": "python2"
  },
  "language_info": {
   "codemirror_mode": {
    "name": "ipython",
    "version": 2
   },
   "file_extension": ".py",
   "mimetype": "text/x-python",
   "name": "python",
   "nbconvert_exporter": "python",
   "pygments_lexer": "ipython2",
   "version": "2.7.9"
  }
 },
 "nbformat": 4,
 "nbformat_minor": 0
}
