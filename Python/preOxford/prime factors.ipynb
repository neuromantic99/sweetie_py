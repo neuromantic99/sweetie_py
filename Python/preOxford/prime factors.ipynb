{
 "cells": [
  {
   "cell_type": "code",
   "execution_count": null,
   "metadata": {
    "collapsed": false
   },
   "outputs": [],
   "source": [
    "from math import sqrt\n",
    "\n",
    "\n",
    "\n",
    "y =  600851475143\n",
    "x = sqrt(y)\n",
    "z = int(x)\n",
    "p = range(1, z)\n",
    "d = []\n",
    "for l in p:\n",
    "    if l % 2 != 0:\n",
    "        d.append(l)\n",
    "        \n",
    "\n",
    "\n",
    "b = []\n",
    "\n",
    "for n in d:\n",
    "    for o in range(2, n):\n",
    "        if n % o == 0:\n",
    "            break\n",
    "    else:\n",
    "        b.append(n)\n",
    "\n",
    "hi = []\n",
    "\n",
    "for j in b:\n",
    "    if y % j == 0:\n",
    "        hi.append(j)\n",
    "        \n",
    "print hi\n",
    "\n",
    "\n",
    "\n",
    "    \n",
    "\n",
    "\n"
   ]
  },
  {
   "cell_type": "code",
   "execution_count": null,
   "metadata": {
    "collapsed": false
   },
   "outputs": [],
   "source": []
  }
 ],
 "metadata": {
  "kernelspec": {
   "display_name": "Python 2",
   "language": "python",
   "name": "python2"
  },
  "language_info": {
   "codemirror_mode": {
    "name": "ipython",
    "version": 2
   },
   "file_extension": ".py",
   "mimetype": "text/x-python",
   "name": "python",
   "nbconvert_exporter": "python",
   "pygments_lexer": "ipython2",
   "version": "2.7.9"
  }
 },
 "nbformat": 4,
 "nbformat_minor": 0
}
