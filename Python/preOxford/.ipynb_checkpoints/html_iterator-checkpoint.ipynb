{
 "cells": [
  {
   "cell_type": "code",
   "execution_count": 3,
   "metadata": {
    "collapsed": false
   },
   "outputs": [
    {
     "name": "stdout",
     "output_type": "stream",
     "text": [
      "http://python-data.dr-chuck.net/known_by_Charleigh.html\n",
      "http://python-data.dr-chuck.net/known_by_Karima.html\n",
      "http://python-data.dr-chuck.net/known_by_Ranolph.html\n",
      "http://python-data.dr-chuck.net/known_by_Tori.html\n",
      "http://python-data.dr-chuck.net/known_by_Oluwatobiloba.html\n",
      "http://python-data.dr-chuck.net/known_by_Rhianyn.html\n",
      "http://python-data.dr-chuck.net/known_by_Kjae.html\n",
      "http://python-data.dr-chuck.net/known_by_Maaz.html\n"
     ]
    }
   ],
   "source": [
    "import urllib\n",
    "from BeautifulSoup import *\n",
    "\n",
    "\n",
    "urls = [ 'http://python-data.dr-chuck.net/known_by_Charleigh.html  ']\n",
    "\n",
    "\n",
    "\n",
    "for i in range(7):\n",
    "\n",
    "    names = []\n",
    "\n",
    "    html = urllib.urlopen(urls[-1]).read()\n",
    "    soup = BeautifulSoup(html)\n",
    "\n",
    "    tags = soup('a')\n",
    "    for tag in tags:\n",
    "        n = tag.get('href', None)\n",
    "        names.append(n)  \n",
    "    \n",
    "    urls.append(names[17])\n",
    "    \n",
    "        \n",
    "for url in urls:\n",
    "    print url.strip()\n",
    "        \n",
    " \n",
    "\n",
    "\n",
    "\n"
   ]
  },
  {
   "cell_type": "code",
   "execution_count": null,
   "metadata": {
    "collapsed": true
   },
   "outputs": [],
   "source": []
  }
 ],
 "metadata": {
  "kernelspec": {
   "display_name": "Python [py3k]",
   "language": "python",
   "name": "Python [py3k]"
  },
  "language_info": {
   "codemirror_mode": {
    "name": "ipython",
    "version": 3
   },
   "file_extension": ".py",
   "mimetype": "text/x-python",
   "name": "python",
   "nbconvert_exporter": "python",
   "pygments_lexer": "ipython3",
   "version": "3.5.1"
  }
 },
 "nbformat": 4,
 "nbformat_minor": 0
}
