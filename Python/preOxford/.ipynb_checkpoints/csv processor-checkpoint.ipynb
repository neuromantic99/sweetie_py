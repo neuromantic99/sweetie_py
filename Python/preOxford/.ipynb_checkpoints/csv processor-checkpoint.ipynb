{
 "cells": [
  {
   "cell_type": "code",
   "execution_count": 1,
   "metadata": {
    "collapsed": false
   },
   "outputs": [],
   "source": [
    "import csv\n",
    "import matplotlib.pyplot as plt\n",
    "import matplotlib as mpl\n",
    "import numpy as np\n",
    "\n",
    "with open('C:\\\\Users\\\\zcbtjro\\\\Downloads\\\\Python2.7\\\\notebooks\\\\look_at_me.csv', 'rb') as f:\n",
    "    f.readline()\n",
    "    f.readline()\n",
    "    f.readline()\n",
    "    \n",
    "    lista = []\n",
    "    #reader = csv.reader(f)\n",
    "    for row in f:\n",
    "        #print len(row)\n",
    "        #row.split('-')\n",
    "        #row.rstrip()\n",
    "        #row.rstrip()\n",
    "        #print row\n",
    "        lista.append(row)\n",
    " \n",
    "# for i in lista[0]:\n",
    "#     i.split(',')\n",
    "#     int(i)\n",
    "#     print i\n",
    "listb = []    \n",
    "for i in range(0, len(lista)):\n",
    "    x = lista[i].split() \n",
    "    listb.append(x)\n",
    "    \n",
    "rawarr = np.array(listb)\n",
    "roi = []\n",
    "\n",
    "\n",
    "for i in range(2, len(rawarr[1])):\n",
    "    roi.append(rawarr[:, i])\n",
    "\n",
    "    \n",
    "\n",
    "roiarr = np.array(roi)\n",
    "t = np.arange(0, len(rawarr))\n",
    "p = t.reshape(1, len(rawarr))\n",
    "v = np.repeat(p, len(roiarr), axis = 0)\n",
    "\n",
    "plt.close('all')\n",
    "fig = plt.figure()\n",
    "f, axarr = plt.subplots(10, sharex = True, sharey = True)\n",
    "\n",
    "for i in range(0, 10):\n",
    "       fig = axarr[i].plot(v[i], roiarr[i], c=np.random.rand(3,1))\n",
    "       axarr[i].axes.get_yaxis().set_visible(False)\n",
    "\n",
    "plt.show()\n",
    "\n",
    "\n",
    "# t = len(roiarr)\n",
    "# add = np.linspace(0, 10 * t, len(rawarr))\n",
    "# p = add.reshape(len(add), 1)\n",
    "# v = np.repeat(p, len(rawarr), axis = 1)\n",
    "\n",
    "# np.sum(roiarr, v)"
   ]
  },
  {
   "cell_type": "code",
   "execution_count": 1,
   "metadata": {
    "collapsed": false
   },
   "outputs": [
    {
     "ename": "SyntaxError",
     "evalue": "invalid syntax (<ipython-input-1-cace07a0c6e8>, line 45)",
     "output_type": "error",
     "traceback": [
      "\u001b[1;36m  File \u001b[1;32m\"<ipython-input-1-cace07a0c6e8>\"\u001b[1;36m, line \u001b[1;32m45\u001b[0m\n\u001b[1;33m    for i in range(0, 35):\u001b[0m\n\u001b[1;37m                         ^\u001b[0m\n\u001b[1;31mSyntaxError\u001b[0m\u001b[1;31m:\u001b[0m invalid syntax\n"
     ]
    }
   ],
   "source": []
  }
 ],
 "metadata": {
  "kernelspec": {
   "display_name": "Python [py3k]",
   "language": "python",
   "name": "Python [py3k]"
  },
  "language_info": {
   "codemirror_mode": {
    "name": "ipython",
    "version": 3
   },
   "file_extension": ".py",
   "mimetype": "text/x-python",
   "name": "python",
   "nbconvert_exporter": "python",
   "pygments_lexer": "ipython3",
   "version": "3.5.1"
  }
 },
 "nbformat": 4,
 "nbformat_minor": 0
}
