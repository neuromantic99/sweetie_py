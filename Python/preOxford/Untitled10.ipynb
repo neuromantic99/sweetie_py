{
 "cells": [
  {
   "cell_type": "code",
   "execution_count": 4,
   "metadata": {
    "collapsed": false
   },
   "outputs": [
    {
     "name": "stdout",
     "output_type": "stream",
     "text": [
      "(75L, 400L)\n"
     ]
    }
   ],
   "source": [
    "#% matplotlib inline\n",
    "import numpy as np\n",
    "import matplotlib.pyplot as plt\n",
    "\n",
    "with open('C:\\\\Users\\\\zcbtjro\\\\Pictures\\\\MFB_running\\\\PN27_withrunning_002.csv', 'rb') as f:\n",
    "    f.readline()\n",
    "    f.readline()\n",
    "    f.readline()\n",
    "\n",
    "    lista = []\n",
    "    for row in f:\n",
    "        lista.append(row)\n",
    "\n",
    "listb = []\n",
    "for i in range(0, len(lista)):\n",
    "    x = lista[i].split() \n",
    "    listb.append(x)\n",
    "\n",
    "rawarr = np.array(listb)\n",
    "roi = []\n",
    "\n",
    "\n",
    "for i in range(2, len(rawarr[1])):\n",
    "    roi.append(rawarr[:, i])\n",
    "\n",
    "roiarr = np.array(roi)\n",
    "t = np.arange(0, len(rawarr))\n",
    "p = t.reshape(1, len(rawarr))\n",
    "v = np.repeat(p, len(roiarr), axis = 0)\n",
    "full = len(roiarr)\n",
    "plt.close('all')\n",
    "fig = plt.figure()\n",
    "f, axarr = plt.subplots(7, sharex = True, sharey = True)\n",
    "\n",
    "\n",
    "for i in range(0, 7):\n",
    "       fig = axarr[i].plot(v[i], roiarr[i], c=np.random.rand(3,1))\n",
    "       axarr[i].axes.get_yaxis().set_visible(False)\n",
    "print roiarr.shape\n",
    "plt.show()"
   ]
  },
  {
   "cell_type": "code",
   "execution_count": null,
   "metadata": {
    "collapsed": true
   },
   "outputs": [],
   "source": []
  }
 ],
 "metadata": {
  "kernelspec": {
   "display_name": "Python 2",
   "language": "python",
   "name": "python2"
  },
  "language_info": {
   "codemirror_mode": {
    "name": "ipython",
    "version": 2
   },
   "file_extension": ".py",
   "mimetype": "text/x-python",
   "name": "python",
   "nbconvert_exporter": "python",
   "pygments_lexer": "ipython2",
   "version": "2.7.9"
  }
 },
 "nbformat": 4,
 "nbformat_minor": 0
}
