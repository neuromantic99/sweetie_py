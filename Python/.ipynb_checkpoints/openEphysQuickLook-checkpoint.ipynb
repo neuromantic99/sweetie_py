{
 "cells": [
  {
   "cell_type": "code",
   "execution_count": 5,
   "metadata": {
    "collapsed": false
   },
   "outputs": [
    {
     "name": "stdout",
     "output_type": "stream",
     "text": [
      "Loading continuous data...\n"
     ]
    },
    {
     "data": {
      "text/plain": [
       "2002.6026666666667"
      ]
     },
     "execution_count": 5,
     "metadata": {},
     "output_type": "execute_result"
    }
   ],
   "source": [
    "from OpenEphys import OpenEphys as OE\n",
    "import matplotlib.pyplot as plt\n",
    "\n",
    "\n",
    "data  = OE.load('/Users/James/Desktop/Test_data/Lights_off/openEphys/108_CH36.continuous')\n",
    "\n",
    "wave  = data['data']\n",
    "\n",
    "# plt.plot(wave[2500000:3000000])\n",
    "# plt.show()\n",
    "len(wave) / 30000 / 100 * 1000\n"
   ]
  },
  {
   "cell_type": "code",
   "execution_count": null,
   "metadata": {
    "collapsed": true
   },
   "outputs": [],
   "source": []
  }
 ],
 "metadata": {
  "kernelspec": {
   "display_name": "Python 3",
   "language": "python",
   "name": "python3"
  },
  "language_info": {
   "codemirror_mode": {
    "name": "ipython",
    "version": 3
   },
   "file_extension": ".py",
   "mimetype": "text/x-python",
   "name": "python",
   "nbconvert_exporter": "python",
   "pygments_lexer": "ipython3",
   "version": "3.6.0"
  }
 },
 "nbformat": 4,
 "nbformat_minor": 2
}
