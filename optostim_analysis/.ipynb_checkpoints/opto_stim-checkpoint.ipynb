{
 "cells": [
  {
   "cell_type": "code",
   "execution_count": 1,
   "metadata": {
    "scrolled": false
   },
   "outputs": [],
   "source": [
    "import numpy as np\n",
    "import matplotlib.pyplot as plt\n",
    "import os\n",
    "from utils.opto_stim_import import merge_sessions\n",
    "from utils.opto_stim_import import opto_stim_import\n",
    "import seaborn as sns\n",
    "import pandas as pd\n",
    "from scipy import stats\n",
    "from utils.d_prime import d_prime\n",
    "import matplotlib.patches as mpatches\n",
    "from scipy.optimize import curve_fit\n",
    "\n",
    "sns.set(style='white')\n",
    "sns.set_palette(\"colorblind\")"
   ]
  },
  {
   "cell_type": "code",
   "execution_count": 48,
   "metadata": {},
   "outputs": [],
   "source": [
    "LUT_path = os.path.expanduser(r'~\\Desktop\\behaviour\\behavioural_LUT.csv')\n",
    "behaviour_path = os.path.expanduser(r'~\\Desktop\\behaviour')\n",
    "figure_path = os.path.expanduser(r'~\\Desktop\\behaviour_figures')"
   ]
  },
  {
   "cell_type": "code",
   "execution_count": 3,
   "metadata": {},
   "outputs": [],
   "source": [
    "c1v1_list = ['CBCB1213.1b', 'CBCB1177.4b', 'CBCB1177.4c']\n",
    "stc_list = ['J009', 'J011', 'J013']"
   ]
  },
  {
   "cell_type": "code",
   "execution_count": 4,
   "metadata": {
    "scrolled": true
   },
   "outputs": [],
   "source": [
    "%%capture\n",
    "#parse useful information from txt files using opto_stim_import.py classes\n",
    "\n",
    "#list of number of trials it took each c1v1 mouse to get out of auto phase\n",
    "c_autoswitch = []\n",
    "c_LED_current = []\n",
    "\n",
    "for cID in c1v1_list:\n",
    "    sessions = merge_sessions(cID, behaviour_path, LUT_path)\n",
    "    c_autoswitch.append(sessions.trial_autoswitch)\n",
    "c_autoswitch = np.array(c_autoswitch)\n",
    "    \n",
    "#list of number of trials it took each st-chrome mouse to get out of auto phase\n",
    "s_autoswitch = []\n",
    "for sID in stc_list:\n",
    "    sessions = merge_sessions(sID, behaviour_path, LUT_path)\n",
    "    s_autoswitch.append(sessions.trial_autoswitch)\n",
    "s_autoswitch = np.array(s_autoswitch)\n",
    "    \n",
    "auto_data = pd.DataFrame({'opsin expressing': c_autoswitch, 'controls': s_autoswitch})"
   ]
  },
  {
   "cell_type": "code",
   "execution_count": 52,
   "metadata": {},
   "outputs": [
    {
     "data": {
      "image/png": "[encoded data removed]",
      "text/plain": [
       "<Figure size 432x288 with 1 Axes>"
      ]
     },
     "metadata": {},
     "output_type": "display_data"
    }
   ],
   "source": [
    "fig =sns.barplot(data=auto_data, order=['opsin expressing', 'controls'],ci='sd')\n",
    "sns.despine()\n",
    "fig.set(ylabel='number of trials to transition \\n out of autoreward phase')\n",
    "plt.savefig(os.path.join(figure_path, 'auto_tranisition.svg'))\n",
    "plt.savefig(os.path.join(figure_path, 'auto_tranisition.png'))"
   ]
  },
  {
   "cell_type": "code",
   "execution_count": 6,
   "metadata": {},
   "outputs": [
    {
     "data": {
      "text/plain": [
       "Ttest_indResult(statistic=-5.346052765584511, pvalue=0.0059012526406468065)"
      ]
     },
     "execution_count": 6,
     "metadata": {},
     "output_type": "execute_result"
    }
   ],
   "source": [
    "# test the above plot for statistical significance \n",
    "stats.ttest_ind(c_autoswitch, s_autoswitch)"
   ]
  },
  {
   "cell_type": "code",
   "execution_count": 7,
   "metadata": {},
   "outputs": [],
   "source": [
    "def calc_dprime(outcome):\n",
    "    '''takes input of outcome array and uses matthias dprime function  '''\n",
    "    num_hits = len(np.where(outcome=='hit')[0])\n",
    "    num_miss = len(np.where(outcome=='miss')[0])\n",
    "    num_fa = len(np.where(outcome=='fa')[0])\n",
    "    num_cr = len(np.where(outcome=='cr')[0])\n",
    "    \n",
    "    hit_rate = num_hits / (num_hits + num_miss)\n",
    "    false_alarm_rate = num_fa / (num_fa + num_cr)\n",
    "    \n",
    "    return hit_rate, d_prime(hit_rate, false_alarm_rate)"
   ]
  },
  {
   "cell_type": "code",
   "execution_count": 8,
   "metadata": {},
   "outputs": [],
   "source": [
    "def dprime_powers(mice, LUT, c1=None, c2=None):\n",
    "\n",
    "    '''\n",
    "    get dprimes at different powers. Takes input:\n",
    "       mice - list of mice\n",
    "       LUT - LUT path\n",
    "       c1 - current list 1\n",
    "       c2 - current list 2\n",
    "       \n",
    "       if no currents are given, returns d-prime across all power levels (this is currently in hack form)\n",
    "       \n",
    "       returns:\n",
    "       3d array of dprimes (n_mice x n_powers)\n",
    "\n",
    "    '''\n",
    "    #hack\n",
    "    if c1:\n",
    "        num_powers = len(c1)\n",
    "    else:\n",
    "        num_powers = 1\n",
    "\n",
    "    #nested list of each mouse and dprimes at each power\n",
    "    power_dprimes=[]\n",
    "    for ID in mice:\n",
    "        sessions = merge_sessions(ID, behaviour_path, LUT)\n",
    "        LED_current = np.array(sessions.LED_current)\n",
    "        outcome = np.array(sessions.outcome)\n",
    "\n",
    "        #dprime at each power for an indvidual mouse\n",
    "        mouse_dprimes = []\n",
    "\n",
    "        #hitrate at each power for an indidual mouse\n",
    "        mouse_hitrate = []\n",
    "\n",
    "        for p in range(num_powers):\n",
    "            if c1:\n",
    "                #index of the trial number using this power\n",
    "                power_ind = np.where((LED_current == c1[p]) | (LED_current == c2[p]))[0]\n",
    "                #power is not printed on the first trial, so shift back 1\n",
    "                power_ind = np.array(power_ind) - 1\n",
    "            else:\n",
    "                power_ind = range(len(LED_current))\n",
    "            \n",
    "            \n",
    "            power_outcome = outcome[power_ind]\n",
    "\n",
    "            assert len(power_ind) == len(power_outcome)\n",
    "            \n",
    "            try:\n",
    "                hit_rate, dprime = calc_dprime(power_outcome)\n",
    "            except ZeroDivisionError:\n",
    "                dprime = np.nan\n",
    "                hit_rate = np.nan\n",
    "                \n",
    "\n",
    "            mouse_hitrate.append(hit_rate)\n",
    "            mouse_dprimes.append(dprime)\n",
    "\n",
    "        plt.plot(mouse_dprimes)\n",
    "        power_dprimes.append(mouse_dprimes)\n",
    "\n",
    "    #create 3d array from nested list\n",
    "    power_dprimes = np.vstack(power_dprimes)\n",
    "\n",
    "    return power_dprimes"
   ]
  },
  {
   "cell_type": "code",
   "execution_count": 9,
   "metadata": {},
   "outputs": [],
   "source": [
    "%%capture\n",
    "\n",
    "# lists of currents used to run opto_stim tasks\n",
    "# improve this in future, make dictionary / LUT with currents used for given LED output powers\n",
    "c1 = [64.73, 32.43, 13.05, 6.59, 3.36, 1.42, 0.78]\n",
    "c2 = [53.73, 27.36, 11.53, 6.26, 3.62, 2.04, 1.51]\n",
    "\n",
    "# the LED output power these currents generate\n",
    "full_LED_power = [10,5,2,1,0.5,0.2,0.1]\n",
    "\n",
    "power_dprimes = dprime_powers(c1v1_list, LUT_path, c1, c2)\n",
    "\n",
    "#calculate the mean, removing the highest power as this is when the mouse initially learns the task\n",
    "# also remove lowest power as this is found in psychometric test (and i can't be bothered to average them)\n",
    "mean_pdp = np.mean(power_dprimes,0)\n",
    "mean_pdp = mean_pdp[1:-1]\n",
    "\n",
    "#match up the trimming of the LED power\n",
    "LED_power = full_LED_power[1:-1]"
   ]
  },
  {
   "cell_type": "code",
   "execution_count": 10,
   "metadata": {},
   "outputs": [],
   "source": [
    "%%capture\n",
    "# same again for the psychometric condition\n",
    "LUT_path_pm = os.path.expanduser(r'~\\Desktop\\behaviour\\behavioural_LUT_psychometric.csv')\n",
    "pm_c1 = [0.78, 0.65, 0.52, 0.39, 0.26]\n",
    "pm_c2 = [0.85, 0.7, 0.56, 0.41, 0.27]\n",
    "\n",
    "LED_power_pm = [0.1,0.08,0.06,0.04,0.02]\n",
    "\n",
    "power_dprimes_pm = dprime_powers(['CBCB1213.1b', 'J008', 'J006'], LUT_path_pm, pm_c1, pm_c2)\n",
    "\n",
    "mean_pdp_pm = np.mean(power_dprimes_pm,0)"
   ]
  },
  {
   "cell_type": "code",
   "execution_count": 11,
   "metadata": {},
   "outputs": [],
   "source": [
    "%%capture\n",
    "\n",
    "# get dprime across all trials (excluding psychometric) for c1v1 and controls\n",
    "grand_dprimes_stc = dprime_powers(stc_list, LUT_path,c1,c2)\n",
    "grand_dprimes_c1v1 = dprime_powers(c1v1_list, LUT_path,c1,c2)\n",
    "\n",
    "#current plots show std have not yet implemented std\n",
    "# grand_stc_err = np.nanstd(power_dprimes_stc) ** 2\n",
    "# grand_c1v1_err = np.nanstd(power_dprimes) ** 2"
   ]
  },
  {
   "cell_type": "code",
   "execution_count": 12,
   "metadata": {},
   "outputs": [
    {
     "data": {
      "text/plain": [
       "array([[0.66412588, 1.7433415 , 3.01554168, 0.95142538, 2.8485369 ,\n",
       "        2.60479531, 4.34813682],\n",
       "       [0.43062875, 2.17406841, 1.37348984, 2.8485369 , 4.34813682,\n",
       "        0.49271764, 0.91887377],\n",
       "       [0.85448086, 1.67166774, 4.34813682, 1.47379874, 0.19297799,\n",
       "        1.92072131, 0.64581798]])"
      ]
     },
     "execution_count": 12,
     "metadata": {},
     "output_type": "execute_result"
    }
   ],
   "source": [
    "grand_dprimes_c1v1"
   ]
  },
  {
   "cell_type": "code",
   "execution_count": 49,
   "metadata": {},
   "outputs": [
    {
     "data": {
      "image/png": "[encoded data removed]",
      "text/plain": [
       "<Figure size 432x288 with 1 Axes>"
      ]
     },
     "metadata": {},
     "output_type": "display_data"
    }
   ],
   "source": [
    "grand_data = pd.DataFrame({'opsin expressing': grand_dprimes_c1v1.ravel(), 'controls': grand_dprimes_stc.ravel()})\n",
    "fig =sns.barplot(data=grand_data, order=['opsin expressing', 'controls'],ci='sd')\n",
    "sns.despine()\n",
    "fig.set(ylabel='mean d-prime across all sessions')\n",
    "plt.savefig(os.path.join(figure_path, 'dprime_grand.svg'))\n",
    "plt.savefig(os.path.join(figure_path, 'dprime_grand.png'))"
   ]
  },
  {
   "cell_type": "code",
   "execution_count": 50,
   "metadata": {},
   "outputs": [
    {
     "data": {
      "image/png": "[encoded data removed]",
      "text/plain": [
       "<Figure size 432x288 with 1 Axes>"
      ]
     },
     "metadata": {},
     "output_type": "display_data"
    }
   ],
   "source": [
    "pdp_stacked = np.hstack((mean_pdp,mean_pdp_pm))\n",
    "pdp_stacked = np.flip(pdp_stacked,0)\n",
    "\n",
    "LED_powers = np.hstack((LED_power, LED_power_pm))\n",
    "LED_powers = np.flip(LED_powers,0)\n",
    "\n",
    "\n",
    "# logarithmic function\n",
    "def log_fit(x, p1,p2):\n",
    "      return p1*np.log(x)+p2\n",
    "\n",
    "popt, pcov = curve_fit(log_fit, LED_powers, pdp_stacked,p0=(1.0,10.2))\n",
    "\n",
    "# curve params\n",
    "p1 = popt[0]\n",
    "p2 = popt[1]\n",
    "\n",
    "# plot curve\n",
    "x_fit = np.linspace(pow(10,-2), pow(10,1), num=100)\n",
    "y_fit = log_fit(x_fit,p1,p2)\n",
    "\n",
    "\n",
    "\n",
    "plt.plot(LED_powers,pdp_stacked, '.')\n",
    "plt.plot(x_fit,y_fit)\n",
    "plt.xscale('log')\n",
    "plt.xticks([pow(10,-2), pow(10,-1), 1, pow(10,1)])\n",
    "sns.despine()\n",
    "plt.xlabel('LED power (mW)')\n",
    "plt.ylabel('d-prime')\n",
    "\n",
    "plt.savefig(os.path.join(figure_path, 'dprime_power.svg'))\n",
    "plt.savefig(os.path.join(figure_path, 'dprime_power.png'))\n",
    "\n",
    "\n"
   ]
  },
  {
   "cell_type": "code",
   "execution_count": 15,
   "metadata": {},
   "outputs": [],
   "source": [
    "def plot_steps(mouse_list, color_ind, c1, c2, LED_power):\n",
    "    '''builds a steps plot for a list of mice'''\n",
    "    num_powers = len(c1)\n",
    "    for ID in mouse_list:\n",
    "        sessions = merge_sessions(ID, behaviour_path, LUT_path)\n",
    "        #the trial number where a switch occured\n",
    "        LED_current = np.array(sessions.LED_current)\n",
    "\n",
    "        #an array showing the power at each trial\n",
    "        trial_power = []\n",
    "        for p in range(num_powers):\n",
    "            power_ind = np.where((LED_current == c1[p]) | (LED_current == c2[p]))[0]\n",
    "            #the number of steps required to get off this power\n",
    "            n_trials_step = len(power_ind)\n",
    "\n",
    "            [trial_power.append(LED_power[p]) for x in range(n_trials_step)]\n",
    "\n",
    "\n",
    "        plt.plot(trial_power,c=sns.color_palette()[color_ind])"
   ]
  },
  {
   "cell_type": "code",
   "execution_count": 51,
   "metadata": {},
   "outputs": [
    {
     "name": "stdout",
     "output_type": "stream",
     "text": [
      "Importing data file: CBCB1213.1b-2018-10-15-194755.txt\n",
      "258 trials total\n",
      "Importing data file: CBCB1213.1b-2018-10-16-120105.txt\n",
      "191 trials total\n",
      "Importing data file: CBCB1213.1b-2018-10-17-122753.txt\n",
      "128 trials total\n",
      "Across sessions, mouse CBCB1213.1b has done 577 trials\n",
      "Importing data file: CBCB1177.4b-2018-10-16-175014.txt\n",
      "135 trials total\n",
      "Importing data file: CBCB1177.4b-2018-10-16-182329.txt\n",
      "92 trials total\n",
      "Importing data file: CBCB1177.4b-2018-10-17-164109.txt\n",
      "146 trials total\n",
      "Across sessions, mouse CBCB1177.4b has done 373 trials\n",
      "Importing data file: CBCB1177.4c-2018-10-16-191025.txt\n",
      "172 trials total\n",
      "Importing data file: CBCB1177.4c-2018-10-17-152721.txt\n",
      "90 trials total\n",
      "Across sessions, mouse CBCB1177.4c has done 262 trials\n",
      "Importing data file: J009-2018-11-20-120014.txt\n",
      "180 trials total\n",
      "Importing data file: J009-2018-11-21-170029.txt\n",
      "169 trials total\n",
      "Importing data file: J009-2018-11-22-172640.txt\n",
      "220 trials total\n",
      "Importing data file: J009-2018-11-23-164834.txt\n",
      "284 trials total\n",
      "Across sessions, mouse J009 has done 853 trials\n",
      "Importing data file: J011-2018-11-20-133003.txt\n",
      "223 trials total\n",
      "Importing data file: J011-2018-11-21-182847.txt\n",
      "173 trials total\n",
      "Importing data file: J011-2018-11-23-110012.txt\n",
      "195 trials total\n",
      "Across sessions, mouse J011 has done 591 trials\n",
      "Importing data file: J013-2018-11-20-145430.txt\n",
      "117 trials total\n",
      "Importing data file: J013-2018-11-21-191629.txt\n",
      "181 trials total\n",
      "Importing data file: J013-2018-11-22-194821.txt\n",
      "110 trials total\n",
      "Importing data file: J013-2018-11-22-202436.txt\n",
      "189 trials total\n",
      "Importing data file: J013-2018-11-23-115820.txt\n",
      "226 trials total\n",
      "Across sessions, mouse J013 has done 823 trials\n"
     ]
    },
    {
     "data": {
      "image/png": "[encoded data removed]",
      "text/plain": [
       "<Figure size 432x288 with 1 Axes>"
      ]
     },
     "metadata": {},
     "output_type": "display_data"
    }
   ],
   "source": [
    "plt.figure\n",
    "plot_steps(c1v1_list,0,c1,c2, full_LED_power)\n",
    "plot_steps(stc_list,1,c1,c2, full_LED_power)\n",
    "sns.despine()\n",
    "plt.xlabel('Trial Number')\n",
    "plt.ylabel('LED power (mW)')\n",
    "plt.yscale('log')\n",
    "opsin_label = mpatches.Patch(color=sns.color_palette()[0], label='Opsin Expressing Mice')\n",
    "control_label = mpatches.Patch(color=sns.color_palette()[1], label='Controls')\n",
    "plt.legend(handles=[opsin_label, control_label], loc='best')\n",
    "\n",
    "plt.savefig(os.path.join(figure_path, 'power_steps.svg'))\n",
    "plt.savefig(os.path.join(figure_path, 'power_steps.png'))"
   ]
  },
  {
   "cell_type": "code",
   "execution_count": 21,
   "metadata": {},
   "outputs": [
    {
     "name": "stderr",
     "output_type": "stream",
     "text": [
      "UsageError: Cell magic `%%` not found.\n"
     ]
    }
   ],
   "source": [
    "def reaction_time(mice, trial_type='hit'):\n",
    "## get reaction time for go trials\n",
    "    react_times = []\n",
    "    for ID in mice:\n",
    "        sessions = merge_sessions(ID, behaviour_path, LUT_path)\n",
    "        binned_licks = np.array(sessions.binned_licks)\n",
    "        outcome = np.array(sessions.outcome)\n",
    "        autorewarded_trial = np.array(sessions.autorewarded_trial)\n",
    "        \n",
    "        if trial_type == 'hit':\n",
    "            trial_ind = np.where((outcome=='hit'))[0]\n",
    "        elif trial_type == 'autoreward':\n",
    "            trial_ind = np.where(autorewarded_trial == True)[0]\n",
    "        else:\n",
    "            raise ValueError('unknown trial type')\n",
    "\n",
    "        react_time = []\n",
    "        for b in binned_licks[trial_ind]:\n",
    "\n",
    "            react_time.append(b[0])\n",
    "\n",
    "\n",
    "        react_times.append(react_time)\n",
    "    return react_times\n",
    "        "
   ]
  },
  {
   "cell_type": "code",
   "execution_count": 43,
   "metadata": {},
   "outputs": [],
   "source": [
    "%%capture\n",
    "stc_reaction = reaction_time(stc_list, 'autoreward')\n",
    "c1v1_reaction = reaction_time(c1v1_list, 'autoreward')"
   ]
  },
  {
   "cell_type": "code",
   "execution_count": 44,
   "metadata": {},
   "outputs": [
    {
     "data": {
      "image/png": "[encoded data removed]",
      "text/plain": [
       "<Figure size 432x288 with 1 Axes>"
      ]
     },
     "metadata": {},
     "output_type": "display_data"
    }
   ],
   "source": [
    "#print(np.mean(stc_reaction))\n",
    "#print(np.mean(c1v1_reaction))\n",
    "for i in range(3):\n",
    "    x = stc_reaction[i]\n",
    "    \n",
    "    binned = np.convolve(x, np.ones((10,))/10, mode='valid')\n",
    "    plt.plot(binned)\n"
   ]
  },
  {
   "cell_type": "code",
   "execution_count": 46,
   "metadata": {},
   "outputs": [
    {
     "data": {
      "text/plain": [
       "'C:\\\\Users\\\\Curtis-E-Bear\\\\Desktop\\\\behaviour\\\\auto_tranisition.svg'"
      ]
     },
     "execution_count": 46,
     "metadata": {},
     "output_type": "execute_result"
    }
   ],
   "source": [
    "os.path.join(behaviour_path, 'auto_tranisition.svg')"
   ]
  }
 ],
 "metadata": {
  "kernelspec": {
   "display_name": "Python 3",
   "language": "python",
   "name": "python3"
  },
  "language_info": {
   "codemirror_mode": {
    "name": "ipython",
    "version": 3
   },
   "file_extension": ".py",
   "mimetype": "text/x-python",
   "name": "python",
   "nbconvert_exporter": "python",
   "pygments_lexer": "ipython3",
   "version": "3.6.4"
  }
 },
 "nbformat": 4,
 "nbformat_minor": 2
}
